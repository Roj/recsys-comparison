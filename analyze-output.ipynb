{
 "cells": [
  {
   "cell_type": "markdown",
   "metadata": {},
   "source": [
    "# Analyze Results from Evaluation Quickstart\n",
    "\n",
    "This notebook analyzes the results of the evaluation quickstart."
   ]
  },
  {
   "cell_type": "markdown",
   "metadata": {},
   "source": [
    "## Setup\n",
    "\n",
    "First, we need to import our libraries:"
   ]
  },
  {
   "cell_type": "code",
   "execution_count": 1,
   "metadata": {
    "collapsed": true
   },
   "outputs": [],
   "source": [
    "import pandas as pd\n",
    "import matplotlib"
   ]
  },
  {
   "cell_type": "code",
   "execution_count": 2,
   "metadata": {
    "collapsed": true
   },
   "outputs": [],
   "source": [
    "%matplotlib inline"
   ]
  },
  {
   "cell_type": "markdown",
   "metadata": {},
   "source": [
    "## Data Import and Preparation\n",
    "\n",
    "LensKit puts its output in a `csv` file:"
   ]
  },
  {
   "cell_type": "code",
   "execution_count": 3,
   "metadata": {
    "collapsed": false
   },
   "outputs": [
    {
     "data": {
      "text/html": [
       "<div>\n",
       "<table border=\"1\" class=\"dataframe\">\n",
       "  <thead>\n",
       "    <tr style=\"text-align: right;\">\n",
       "      <th></th>\n",
       "      <th>Partition</th>\n",
       "      <th>Algorithm</th>\n",
       "      <th>BuildTime</th>\n",
       "      <th>TestTime</th>\n",
       "      <th>RMSE.ByUser</th>\n",
       "      <th>RMSE.ByRating</th>\n",
       "      <th>Predict.nDCG</th>\n",
       "      <th>MRR</th>\n",
       "    </tr>\n",
       "  </thead>\n",
       "  <tbody>\n",
       "    <tr>\n",
       "      <th>0</th>\n",
       "      <td>4</td>\n",
       "      <td>PersMean</td>\n",
       "      <td>0.713</td>\n",
       "      <td>4.954</td>\n",
       "      <td>4.076031</td>\n",
       "      <td>4.325807</td>\n",
       "      <td>4.659620</td>\n",
       "      <td>0.719278</td>\n",
       "    </tr>\n",
       "    <tr>\n",
       "      <th>1</th>\n",
       "      <td>5</td>\n",
       "      <td>PersMean</td>\n",
       "      <td>0.715</td>\n",
       "      <td>4.963</td>\n",
       "      <td>4.107206</td>\n",
       "      <td>4.359218</td>\n",
       "      <td>0.757764</td>\n",
       "      <td>0.723538</td>\n",
       "    </tr>\n",
       "    <tr>\n",
       "      <th>2</th>\n",
       "      <td>4</td>\n",
       "      <td>Custom</td>\n",
       "      <td>0.714</td>\n",
       "      <td>5.378</td>\n",
       "      <td>4.076031</td>\n",
       "      <td>4.325807</td>\n",
       "      <td>4.659620</td>\n",
       "      <td>0.720377</td>\n",
       "    </tr>\n",
       "    <tr>\n",
       "      <th>3</th>\n",
       "      <td>5</td>\n",
       "      <td>Custom</td>\n",
       "      <td>0.713</td>\n",
       "      <td>5.381</td>\n",
       "      <td>4.107206</td>\n",
       "      <td>4.359218</td>\n",
       "      <td>0.757764</td>\n",
       "      <td>0.728087</td>\n",
       "    </tr>\n",
       "    <tr>\n",
       "      <th>4</th>\n",
       "      <td>5</td>\n",
       "      <td>ItemItem</td>\n",
       "      <td>6.193</td>\n",
       "      <td>8.644</td>\n",
       "      <td>3.883678</td>\n",
       "      <td>4.124895</td>\n",
       "      <td>0.762215</td>\n",
       "      <td>0.722162</td>\n",
       "    </tr>\n",
       "  </tbody>\n",
       "</table>\n",
       "</div>"
      ],
      "text/plain": [
       "   Partition Algorithm  BuildTime  TestTime  RMSE.ByUser  RMSE.ByRating  \\\n",
       "0          4  PersMean      0.713     4.954     4.076031       4.325807   \n",
       "1          5  PersMean      0.715     4.963     4.107206       4.359218   \n",
       "2          4    Custom      0.714     5.378     4.076031       4.325807   \n",
       "3          5    Custom      0.713     5.381     4.107206       4.359218   \n",
       "4          5  ItemItem      6.193     8.644     3.883678       4.124895   \n",
       "\n",
       "   Predict.nDCG       MRR  \n",
       "0      4.659620  0.719278  \n",
       "1      0.757764  0.723538  \n",
       "2      4.659620  0.720377  \n",
       "3      0.757764  0.728087  \n",
       "4      0.762215  0.722162  "
      ]
     },
     "execution_count": 3,
     "metadata": {},
     "output_type": "execute_result"
    }
   ],
   "source": [
    "results = pd.read_csv('build/eval-results.csv')\n",
    "results.head()"
   ]
  },
  {
   "cell_type": "markdown",
   "metadata": {},
   "source": [
    "We ran each algorithm 5 times since we used 5-fold cross-validation.  What we want to do next is compute the average value of each metric for each data set."
   ]
  },
  {
   "cell_type": "code",
   "execution_count": 4,
   "metadata": {
    "collapsed": false
   },
   "outputs": [
    {
     "data": {
      "text/html": [
       "<div>\n",
       "<table border=\"1\" class=\"dataframe\">\n",
       "  <thead>\n",
       "    <tr style=\"text-align: right;\">\n",
       "      <th></th>\n",
       "      <th>BuildTime</th>\n",
       "      <th>TestTime</th>\n",
       "      <th>RMSE.ByUser</th>\n",
       "      <th>RMSE.ByRating</th>\n",
       "      <th>Predict.nDCG</th>\n",
       "      <th>MRR</th>\n",
       "    </tr>\n",
       "    <tr>\n",
       "      <th>Algorithm</th>\n",
       "      <th></th>\n",
       "      <th></th>\n",
       "      <th></th>\n",
       "      <th></th>\n",
       "      <th></th>\n",
       "      <th></th>\n",
       "    </tr>\n",
       "  </thead>\n",
       "  <tbody>\n",
       "    <tr>\n",
       "      <th>Custom</th>\n",
       "      <td>0.4484</td>\n",
       "      <td>3.4360</td>\n",
       "      <td>4.087141</td>\n",
       "      <td>4.329409</td>\n",
       "      <td>1.471886</td>\n",
       "      <td>0.728179</td>\n",
       "    </tr>\n",
       "    <tr>\n",
       "      <th>ItemItem</th>\n",
       "      <td>4.7400</td>\n",
       "      <td>8.0562</td>\n",
       "      <td>3.870446</td>\n",
       "      <td>4.100073</td>\n",
       "      <td>1.094901</td>\n",
       "      <td>0.725301</td>\n",
       "    </tr>\n",
       "    <tr>\n",
       "      <th>PersMean</th>\n",
       "      <td>0.3906</td>\n",
       "      <td>3.4706</td>\n",
       "      <td>4.087141</td>\n",
       "      <td>4.329409</td>\n",
       "      <td>1.471886</td>\n",
       "      <td>0.727118</td>\n",
       "    </tr>\n",
       "    <tr>\n",
       "      <th>UserUser</th>\n",
       "      <td>0.0722</td>\n",
       "      <td>7910.2678</td>\n",
       "      <td>3.876921</td>\n",
       "      <td>4.096465</td>\n",
       "      <td>1.133951</td>\n",
       "      <td>0.866969</td>\n",
       "    </tr>\n",
       "  </tbody>\n",
       "</table>\n",
       "</div>"
      ],
      "text/plain": [
       "           BuildTime   TestTime  RMSE.ByUser  RMSE.ByRating  Predict.nDCG  \\\n",
       "Algorithm                                                                   \n",
       "Custom        0.4484     3.4360     4.087141       4.329409      1.471886   \n",
       "ItemItem      4.7400     8.0562     3.870446       4.100073      1.094901   \n",
       "PersMean      0.3906     3.4706     4.087141       4.329409      1.471886   \n",
       "UserUser      0.0722  7910.2678     3.876921       4.096465      1.133951   \n",
       "\n",
       "                MRR  \n",
       "Algorithm            \n",
       "Custom     0.728179  \n",
       "ItemItem   0.725301  \n",
       "PersMean   0.727118  \n",
       "UserUser   0.866969  "
      ]
     },
     "execution_count": 4,
     "metadata": {},
     "output_type": "execute_result"
    }
   ],
   "source": [
    "agg_results = results.drop(['Partition'], axis=1).groupby('Algorithm').mean()\n",
    "agg_results"
   ]
  },
  {
   "cell_type": "markdown",
   "metadata": {},
   "source": [
    "## Plotting Results\n",
    "\n",
    "Let's start plotting things. What's the RMSE achieved by each algorithm?"
   ]
  },
  {
   "cell_type": "code",
   "execution_count": 5,
   "metadata": {
    "collapsed": false
   },
   "outputs": [
    {
     "data": {
      "text/plain": [
       "<matplotlib.axes._subplots.AxesSubplot at 0x10c50cdd8>"
      ]
     },
     "execution_count": 5,
     "metadata": {},
     "output_type": "execute_result"
    },
    {
     "data": {
      "image/png": "[encoded data removed]",
      "text/plain": [
       "<matplotlib.figure.Figure at 0x10c50cef0>"
      ]
     },
     "metadata": {},
     "output_type": "display_data"
    }
   ],
   "source": [
    "results.loc[:,['Algorithm', 'RMSE.ByUser']].boxplot(by='Algorithm')"
   ]
  },
  {
   "cell_type": "markdown",
   "metadata": {},
   "source": [
    "Next up: nDCG"
   ]
  },
  {
   "cell_type": "code",
   "execution_count": 8,
   "metadata": {
    "collapsed": false
   },
   "outputs": [
    {
     "data": {
      "text/plain": [
       "<matplotlib.axes._subplots.AxesSubplot at 0x10fd494e0>"
      ]
     },
     "execution_count": 8,
     "metadata": {},
     "output_type": "execute_result"
    },
    {
     "data": {
      "image/png": "[encoded data removed]",
      "text/plain": [
       "<matplotlib.figure.Figure at 0x10fa939b0>"
      ]
     },
     "metadata": {},
     "output_type": "display_data"
    }
   ],
   "source": [
    "results.loc[:,['Algorithm', 'Predict.nDCG']].boxplot(by='Algorithm')"
   ]
  },
  {
   "cell_type": "markdown",
   "metadata": {},
   "source": [
    "Finally, the build and test times."
   ]
  },
  {
   "cell_type": "code",
   "execution_count": 9,
   "metadata": {
    "collapsed": false
   },
   "outputs": [
    {
     "data": {
      "text/plain": [
       "array([<matplotlib.axes._subplots.AxesSubplot object at 0x10fcf2d30>,\n",
       "       <matplotlib.axes._subplots.AxesSubplot object at 0x10ff5dcc0>], dtype=object)"
      ]
     },
     "execution_count": 9,
     "metadata": {},
     "output_type": "execute_result"
    },
    {
     "data": {
      "image/png": "[encoded data removed]",
      "text/plain": [
       "<matplotlib.figure.Figure at 0x10fbfda90>"
      ]
     },
     "metadata": {},
     "output_type": "display_data"
    }
   ],
   "source": [
    "results.loc[:,['Algorithm', 'BuildTime', 'TestTime']].boxplot(by='Algorithm')"
   ]
  },
  {
   "cell_type": "code",
   "execution_count": null,
   "metadata": {
    "collapsed": true
   },
   "outputs": [],
   "source": []
  }
 ],
 "metadata": {
  "kernelspec": {
   "display_name": "Python 3",
   "language": "python",
   "name": "python3"
  },
  "language_info": {
   "codemirror_mode": {
    "name": "ipython",
    "version": 3
   },
   "file_extension": ".py",
   "mimetype": "text/x-python",
   "name": "python",
   "nbconvert_exporter": "python",
   "pygments_lexer": "ipython3",
   "version": "3.6.0"
  }
 },
 "nbformat": 4,
 "nbformat_minor": 0
}
