{
 "cells": [
  {
   "cell_type": "markdown",
   "metadata": {},
   "source": [
    "# Analyze Results from Evaluation Quickstart\n",
    "\n",
    "This notebook analyzes the results of the evaluation quickstart."
   ]
  },
  {
   "cell_type": "markdown",
   "metadata": {},
   "source": [
    "## Setup\n",
    "\n",
    "First, we need to import our libraries:"
   ]
  },
  {
   "cell_type": "code",
   "execution_count": 1,
   "metadata": {
    "collapsed": true
   },
   "outputs": [],
   "source": [
    "import pandas as pd\n",
    "import matplotlib"
   ]
  },
  {
   "cell_type": "code",
   "execution_count": 2,
   "metadata": {
    "collapsed": true
   },
   "outputs": [],
   "source": [
    "%matplotlib inline"
   ]
  },
  {
   "cell_type": "markdown",
   "metadata": {},
   "source": [
    "## Data Import and Preparation\n",
    "\n",
    "LensKit puts its output in a `csv` file:"
   ]
  },
  {
   "cell_type": "code",
   "execution_count": 3,
   "metadata": {
    "collapsed": false
   },
   "outputs": [
    {
     "data": {
      "text/html": [
       "<div>\n",
       "<table border=\"1\" class=\"dataframe\">\n",
       "  <thead>\n",
       "    <tr style=\"text-align: right;\">\n",
       "      <th></th>\n",
       "      <th>Partition</th>\n",
       "      <th>Algorithm</th>\n",
       "      <th>BuildTime</th>\n",
       "      <th>TestTime</th>\n",
       "      <th>RMSE.ByUser</th>\n",
       "      <th>RMSE.ByRating</th>\n",
       "      <th>Predict.nDCG</th>\n",
       "      <th>MRR</th>\n",
       "    </tr>\n",
       "  </thead>\n",
       "  <tbody>\n",
       "    <tr>\n",
       "      <th>0</th>\n",
       "      <td>5</td>\n",
       "      <td>PersMean</td>\n",
       "      <td>1.439</td>\n",
       "      <td>12.694</td>\n",
       "      <td>0.824345</td>\n",
       "      <td>0.875403</td>\n",
       "      <td>0.945178</td>\n",
       "      <td>0.613601</td>\n",
       "    </tr>\n",
       "    <tr>\n",
       "      <th>1</th>\n",
       "      <td>4</td>\n",
       "      <td>PersMean</td>\n",
       "      <td>1.483</td>\n",
       "      <td>12.917</td>\n",
       "      <td>0.825515</td>\n",
       "      <td>0.876215</td>\n",
       "      <td>0.944550</td>\n",
       "      <td>0.615396</td>\n",
       "    </tr>\n",
       "    <tr>\n",
       "      <th>2</th>\n",
       "      <td>5</td>\n",
       "      <td>Custom</td>\n",
       "      <td>1.545</td>\n",
       "      <td>14.436</td>\n",
       "      <td>0.824345</td>\n",
       "      <td>0.875403</td>\n",
       "      <td>0.945178</td>\n",
       "      <td>0.614913</td>\n",
       "    </tr>\n",
       "    <tr>\n",
       "      <th>3</th>\n",
       "      <td>4</td>\n",
       "      <td>Custom</td>\n",
       "      <td>1.592</td>\n",
       "      <td>14.577</td>\n",
       "      <td>0.825515</td>\n",
       "      <td>0.876215</td>\n",
       "      <td>0.944550</td>\n",
       "      <td>0.613768</td>\n",
       "    </tr>\n",
       "    <tr>\n",
       "      <th>4</th>\n",
       "      <td>5</td>\n",
       "      <td>ItemItem</td>\n",
       "      <td>13.434</td>\n",
       "      <td>19.448</td>\n",
       "      <td>0.788612</td>\n",
       "      <td>0.833403</td>\n",
       "      <td>0.951383</td>\n",
       "      <td>0.606639</td>\n",
       "    </tr>\n",
       "  </tbody>\n",
       "</table>\n",
       "</div>"
      ],
      "text/plain": [
       "   Partition Algorithm  BuildTime  TestTime  RMSE.ByUser  RMSE.ByRating  \\\n",
       "0          5  PersMean      1.439    12.694     0.824345       0.875403   \n",
       "1          4  PersMean      1.483    12.917     0.825515       0.876215   \n",
       "2          5    Custom      1.545    14.436     0.824345       0.875403   \n",
       "3          4    Custom      1.592    14.577     0.825515       0.876215   \n",
       "4          5  ItemItem     13.434    19.448     0.788612       0.833403   \n",
       "\n",
       "   Predict.nDCG       MRR  \n",
       "0      0.945178  0.613601  \n",
       "1      0.944550  0.615396  \n",
       "2      0.945178  0.614913  \n",
       "3      0.944550  0.613768  \n",
       "4      0.951383  0.606639  "
      ]
     },
     "execution_count": 3,
     "metadata": {},
     "output_type": "execute_result"
    }
   ],
   "source": [
    "results = pd.read_csv('build/eval-results.csv')\n",
    "results.head()"
   ]
  },
  {
   "cell_type": "markdown",
   "metadata": {},
   "source": [
    "We ran each algorithm 5 times since we used 5-fold cross-validation.  What we want to do next is compute the average value of each metric for each data set."
   ]
  },
  {
   "cell_type": "code",
   "execution_count": 4,
   "metadata": {
    "collapsed": false
   },
   "outputs": [
    {
     "data": {
      "text/html": [
       "<div>\n",
       "<table border=\"1\" class=\"dataframe\">\n",
       "  <thead>\n",
       "    <tr style=\"text-align: right;\">\n",
       "      <th></th>\n",
       "      <th>BuildTime</th>\n",
       "      <th>TestTime</th>\n",
       "      <th>RMSE.ByUser</th>\n",
       "      <th>RMSE.ByRating</th>\n",
       "      <th>Predict.nDCG</th>\n",
       "      <th>MRR</th>\n",
       "    </tr>\n",
       "    <tr>\n",
       "      <th>Algorithm</th>\n",
       "      <th></th>\n",
       "      <th></th>\n",
       "      <th></th>\n",
       "      <th></th>\n",
       "      <th></th>\n",
       "      <th></th>\n",
       "    </tr>\n",
       "  </thead>\n",
       "  <tbody>\n",
       "    <tr>\n",
       "      <th>Custom</th>\n",
       "      <td>0.9202</td>\n",
       "      <td>9.4426</td>\n",
       "      <td>0.826521</td>\n",
       "      <td>0.876860</td>\n",
       "      <td>0.944675</td>\n",
       "      <td>0.617660</td>\n",
       "    </tr>\n",
       "    <tr>\n",
       "      <th>ItemItem</th>\n",
       "      <td>10.4164</td>\n",
       "      <td>18.4072</td>\n",
       "      <td>0.790645</td>\n",
       "      <td>0.834773</td>\n",
       "      <td>0.951061</td>\n",
       "      <td>0.611854</td>\n",
       "    </tr>\n",
       "    <tr>\n",
       "      <th>PersMean</th>\n",
       "      <td>0.7774</td>\n",
       "      <td>9.0922</td>\n",
       "      <td>0.826521</td>\n",
       "      <td>0.876860</td>\n",
       "      <td>0.944675</td>\n",
       "      <td>0.617710</td>\n",
       "    </tr>\n",
       "    <tr>\n",
       "      <th>UserUser</th>\n",
       "      <td>0.0976</td>\n",
       "      <td>52806.3250</td>\n",
       "      <td>0.796074</td>\n",
       "      <td>0.836992</td>\n",
       "      <td>0.951285</td>\n",
       "      <td>0.712654</td>\n",
       "    </tr>\n",
       "  </tbody>\n",
       "</table>\n",
       "</div>"
      ],
      "text/plain": [
       "           BuildTime    TestTime  RMSE.ByUser  RMSE.ByRating  Predict.nDCG  \\\n",
       "Algorithm                                                                    \n",
       "Custom        0.9202      9.4426     0.826521       0.876860      0.944675   \n",
       "ItemItem     10.4164     18.4072     0.790645       0.834773      0.951061   \n",
       "PersMean      0.7774      9.0922     0.826521       0.876860      0.944675   \n",
       "UserUser      0.0976  52806.3250     0.796074       0.836992      0.951285   \n",
       "\n",
       "                MRR  \n",
       "Algorithm            \n",
       "Custom     0.617660  \n",
       "ItemItem   0.611854  \n",
       "PersMean   0.617710  \n",
       "UserUser   0.712654  "
      ]
     },
     "execution_count": 4,
     "metadata": {},
     "output_type": "execute_result"
    }
   ],
   "source": [
    "agg_results = results.drop(['Partition'], axis=1).groupby('Algorithm').mean()\n",
    "agg_results"
   ]
  },
  {
   "cell_type": "markdown",
   "metadata": {},
   "source": [
    "## Plotting Results\n",
    "\n",
    "Let's start plotting things. What's the RMSE achieved by each algorithm?"
   ]
  },
  {
   "cell_type": "code",
   "execution_count": 5,
   "metadata": {
    "collapsed": false
   },
   "outputs": [
    {
     "data": {
      "text/plain": [
       "<matplotlib.axes._subplots.AxesSubplot at 0x10f4e3978>"
      ]
     },
     "execution_count": 5,
     "metadata": {},
     "output_type": "execute_result"
    },
    {
     "data": {
      "image/png": "[encoded data removed]",
      "text/plain": [
       "<matplotlib.figure.Figure at 0x10f4e3f28>"
      ]
     },
     "metadata": {},
     "output_type": "display_data"
    }
   ],
   "source": [
    "results.loc[:,['Algorithm', 'RMSE.ByUser']].boxplot(by='Algorithm')"
   ]
  },
  {
   "cell_type": "markdown",
   "metadata": {},
   "source": [
    "Next up: nDCG"
   ]
  },
  {
   "cell_type": "code",
   "execution_count": 6,
   "metadata": {
    "collapsed": false
   },
   "outputs": [
    {
     "data": {
      "text/plain": [
       "<matplotlib.axes._subplots.AxesSubplot at 0x11296ab00>"
      ]
     },
     "execution_count": 6,
     "metadata": {},
     "output_type": "execute_result"
    },
    {
     "data": {
      "image/png": "[encoded data removed]",
      "text/plain": [
       "<matplotlib.figure.Figure at 0x11285f668>"
      ]
     },
     "metadata": {},
     "output_type": "display_data"
    }
   ],
   "source": [
    "results.loc[:,['Algorithm', 'Predict.nDCG']].boxplot(by='Algorithm')"
   ]
  },
  {
   "cell_type": "markdown",
   "metadata": {},
   "source": [
    "Finally, the build and test times."
   ]
  },
  {
   "cell_type": "code",
   "execution_count": 7,
   "metadata": {
    "collapsed": false
   },
   "outputs": [
    {
     "data": {
      "text/plain": [
       "array([<matplotlib.axes._subplots.AxesSubplot object at 0x112ae9d68>,\n",
       "       <matplotlib.axes._subplots.AxesSubplot object at 0x112bc06d8>], dtype=object)"
      ]
     },
     "execution_count": 7,
     "metadata": {},
     "output_type": "execute_result"
    },
    {
     "data": {
      "image/png": "[encoded data removed]",
      "text/plain": [
       "<matplotlib.figure.Figure at 0x11285f390>"
      ]
     },
     "metadata": {},
     "output_type": "display_data"
    }
   ],
   "source": [
    "results.loc[:,['Algorithm', 'BuildTime', 'TestTime']].boxplot(by='Algorithm')"
   ]
  },
  {
   "cell_type": "code",
   "execution_count": null,
   "metadata": {
    "collapsed": true
   },
   "outputs": [],
   "source": []
  },
  {
   "cell_type": "code",
   "execution_count": null,
   "metadata": {
    "collapsed": true
   },
   "outputs": [],
   "source": []
  },
  {
   "cell_type": "code",
   "execution_count": null,
   "metadata": {
    "collapsed": true
   },
   "outputs": [],
   "source": []
  }
 ],
 "metadata": {
  "kernelspec": {
   "display_name": "Python 3",
   "language": "python",
   "name": "python3"
  },
  "language_info": {
   "codemirror_mode": {
    "name": "ipython",
    "version": 3
   },
   "file_extension": ".py",
   "mimetype": "text/x-python",
   "name": "python",
   "nbconvert_exporter": "python",
   "pygments_lexer": "ipython3",
   "version": "3.6.0"
  }
 },
 "nbformat": 4,
 "nbformat_minor": 0
}
